{
 "cells": [
  {
   "cell_type": "markdown",
   "id": "271e86d4",
   "metadata": {},
   "source": [
    "## 1.1 Numbers: Operations, Types, and Variables"
   ]
  },
  {
   "cell_type": "markdown",
   "id": "1a800fb4",
   "metadata": {},
   "source": [
    "### Basic Math Operations"
   ]
  },
  {
   "cell_type": "code",
   "execution_count": 1,
   "id": "3c1ec923",
   "metadata": {},
   "outputs": [
    {
     "data": {
      "text/plain": [
       "7"
      ]
     },
     "execution_count": 1,
     "metadata": {},
     "output_type": "execute_result"
    }
   ],
   "source": [
    "5 + 2"
   ]
  },
  {
   "cell_type": "code",
   "execution_count": 2,
   "id": "3a48536d",
   "metadata": {},
   "outputs": [
    {
     "data": {
      "text/plain": [
       "3"
      ]
     },
     "execution_count": 2,
     "metadata": {},
     "output_type": "execute_result"
    }
   ],
   "source": [
    "5 - 2"
   ]
  },
  {
   "cell_type": "code",
   "execution_count": 3,
   "id": "8e92b677",
   "metadata": {},
   "outputs": [
    {
     "data": {
      "text/plain": [
       "10"
      ]
     },
     "execution_count": 3,
     "metadata": {},
     "output_type": "execute_result"
    }
   ],
   "source": [
    " 5 *2"
   ]
  },
  {
   "cell_type": "code",
   "execution_count": 4,
   "id": "34e7c7ef",
   "metadata": {},
   "outputs": [
    {
     "data": {
      "text/plain": [
       "2.5"
      ]
     },
     "execution_count": 4,
     "metadata": {},
     "output_type": "execute_result"
    }
   ],
   "source": [
    "5 / 2"
   ]
  },
  {
   "cell_type": "code",
   "execution_count": 5,
   "id": "11baf0b5",
   "metadata": {},
   "outputs": [
    {
     "data": {
      "text/plain": [
       "2"
      ]
     },
     "execution_count": 5,
     "metadata": {},
     "output_type": "execute_result"
    }
   ],
   "source": [
    " 5 // 2 "
   ]
  },
  {
   "cell_type": "code",
   "execution_count": 6,
   "id": "20ca6444",
   "metadata": {},
   "outputs": [
    {
     "data": {
      "text/plain": [
       "25"
      ]
     },
     "execution_count": 6,
     "metadata": {},
     "output_type": "execute_result"
    }
   ],
   "source": [
    "5 ** 2"
   ]
  },
  {
   "cell_type": "code",
   "execution_count": 7,
   "id": "e07cb482",
   "metadata": {},
   "outputs": [
    {
     "data": {
      "text/plain": [
       "1"
      ]
     },
     "execution_count": 7,
     "metadata": {},
     "output_type": "execute_result"
    }
   ],
   "source": [
    "5  % 2"
   ]
  },
  {
   "cell_type": "markdown",
   "id": "1f19e45f",
   "metadata": {},
   "source": [
    "### Order of Operations"
   ]
  },
  {
   "cell_type": "code",
   "execution_count": 9,
   "id": "d0a07304",
   "metadata": {},
   "outputs": [
    {
     "data": {
      "text/plain": [
       "-1"
      ]
     },
     "execution_count": 9,
     "metadata": {},
     "output_type": "execute_result"
    }
   ],
   "source": [
    "5 + 2 * -3"
   ]
  },
  {
   "cell_type": "code",
   "execution_count": 10,
   "id": "ada08742",
   "metadata": {},
   "outputs": [
    {
     "data": {
      "text/plain": [
       "-21"
      ]
     },
     "execution_count": 10,
     "metadata": {},
     "output_type": "execute_result"
    }
   ],
   "source": [
    "( 5 + 2 ) * - 3 "
   ]
  },
  {
   "cell_type": "code",
   "execution_count": 11,
   "id": "48815081",
   "metadata": {},
   "outputs": [
    {
     "data": {
      "text/plain": [
       "-5.0"
      ]
     },
     "execution_count": 11,
     "metadata": {},
     "output_type": "execute_result"
    }
   ],
   "source": [
    "(100 - 5 ** 3) / 5"
   ]
  },
  {
   "cell_type": "code",
   "execution_count": 12,
   "id": "fa0d940e",
   "metadata": {},
   "outputs": [
    {
     "data": {
      "text/plain": [
       "9"
      ]
     },
     "execution_count": 12,
     "metadata": {},
     "output_type": "execute_result"
    }
   ],
   "source": [
    "6 + 15 % 4"
   ]
  },
  {
   "cell_type": "code",
   "execution_count": 13,
   "id": "a11e41c8",
   "metadata": {},
   "outputs": [
    {
     "data": {
      "text/plain": [
       "float"
      ]
     },
     "execution_count": 13,
     "metadata": {},
     "output_type": "execute_result"
    }
   ],
   "source": [
    "type(6.0)"
   ]
  },
  {
   "cell_type": "code",
   "execution_count": 14,
   "id": "7a2befef",
   "metadata": {},
   "outputs": [
    {
     "data": {
      "text/plain": [
       "8.14"
      ]
     },
     "execution_count": 14,
     "metadata": {},
     "output_type": "execute_result"
    }
   ],
   "source": [
    "5 + 3.14"
   ]
  },
  {
   "cell_type": "code",
   "execution_count": 15,
   "id": "88f0fc32",
   "metadata": {},
   "outputs": [
    {
     "data": {
      "text/plain": [
       "7"
      ]
     },
     "execution_count": 15,
     "metadata": {},
     "output_type": "execute_result"
    }
   ],
   "source": [
    "int(7.99999)"
   ]
  },
  {
   "cell_type": "code",
   "execution_count": 16,
   "id": "14df5d93",
   "metadata": {},
   "outputs": [
    {
     "data": {
      "text/plain": [
       "6.0"
      ]
     },
     "execution_count": 16,
     "metadata": {},
     "output_type": "execute_result"
    }
   ],
   "source": [
    "float(6)"
   ]
  },
  {
   "cell_type": "code",
   "execution_count": 17,
   "id": "8d76f7b7",
   "metadata": {},
   "outputs": [
    {
     "data": {
      "text/plain": [
       "(-0.5+0.5j)"
      ]
     },
     "execution_count": 17,
     "metadata": {},
     "output_type": "execute_result"
    }
   ],
   "source": [
    "(2 + 3j) / (1 - 5j)"
   ]
  },
  {
   "cell_type": "markdown",
   "id": "95623d9c",
   "metadata": {},
   "source": [
    "## Assigning Variables"
   ]
  },
  {
   "cell_type": "code",
   "execution_count": 19,
   "id": "b2f2c9a8",
   "metadata": {},
   "outputs": [],
   "source": [
    "x = 2"
   ]
  },
  {
   "cell_type": "code",
   "execution_count": 20,
   "id": "6f5289a6",
   "metadata": {},
   "outputs": [
    {
     "data": {
      "text/plain": [
       "3"
      ]
     },
     "execution_count": 20,
     "metadata": {},
     "output_type": "execute_result"
    }
   ],
   "source": [
    "x + 1"
   ]
  },
  {
   "cell_type": "markdown",
   "id": "ef08677e",
   "metadata": {},
   "source": [
    "Python is\n",
    "dynamically typed."
   ]
  },
  {
   "cell_type": "code",
   "execution_count": 21,
   "id": "b59104c0",
   "metadata": {},
   "outputs": [
    {
     "data": {
      "text/plain": [
       "4.0"
      ]
     },
     "execution_count": 21,
     "metadata": {},
     "output_type": "execute_result"
    }
   ],
   "source": [
    "x = 3.0 \n",
    "x + 1"
   ]
  },
  {
   "cell_type": "markdown",
   "id": "925151da",
   "metadata": {},
   "source": [
    "Changing Types"
   ]
  },
  {
   "cell_type": "code",
   "execution_count": 22,
   "id": "6885dd8d",
   "metadata": {},
   "outputs": [],
   "source": [
    "y = 10"
   ]
  },
  {
   "cell_type": "code",
   "execution_count": 23,
   "id": "f1e34b41",
   "metadata": {},
   "outputs": [],
   "source": [
    "y  = y - 10.0"
   ]
  },
  {
   "cell_type": "code",
   "execution_count": 24,
   "id": "b1627676",
   "metadata": {},
   "outputs": [
    {
     "data": {
      "text/plain": [
       "float"
      ]
     },
     "execution_count": 24,
     "metadata": {},
     "output_type": "execute_result"
    }
   ],
   "source": [
    "type(y)"
   ]
  },
  {
   "cell_type": "code",
   "execution_count": 28,
   "id": "254e9d35",
   "metadata": {},
   "outputs": [
    {
     "name": "stdout",
     "output_type": "stream",
     "text": [
      "['False', 'None', 'True', '__peg_parser__', 'and', 'as', 'assert', 'async', 'await', 'break', 'class', 'continue', 'def', 'del', 'elif', 'else', 'except', 'finally', 'for', 'from', 'global', 'if', 'import', 'in', 'is', 'lambda', 'nonlocal', 'not', 'or', 'pass', 'raise', 'return', 'try', 'while', 'with', 'yield']\n"
     ]
    }
   ],
   "source": [
    "import keyword\n",
    "print(keyword.kwlist)"
   ]
  },
  {
   "cell_type": "code",
   "execution_count": 29,
   "id": "bde8f416",
   "metadata": {},
   "outputs": [],
   "source": [
    "first_number = 1"
   ]
  },
  {
   "cell_type": "code",
   "execution_count": 31,
   "id": "749a28b3",
   "metadata": {},
   "outputs": [],
   "source": [
    "# INVALID \n",
    "# my_$ = 1000.000\n"
   ]
  },
  {
   "cell_type": "markdown",
   "id": "ebad1d44",
   "metadata": {},
   "source": [
    "Mulitple variables "
   ]
  },
  {
   "cell_type": "code",
   "execution_count": 34,
   "id": "f8168d96",
   "metadata": {},
   "outputs": [],
   "source": [
    "x = 5\n",
    "y = 2"
   ]
  },
  {
   "cell_type": "code",
   "execution_count": 35,
   "id": "7b11a82d",
   "metadata": {},
   "outputs": [
    {
     "data": {
      "text/plain": [
       "6"
      ]
     },
     "execution_count": 35,
     "metadata": {},
     "output_type": "execute_result"
    }
   ],
   "source": [
    "x + x - y ** 2"
   ]
  },
  {
   "cell_type": "code",
   "execution_count": 36,
   "id": "63f5b3d9",
   "metadata": {},
   "outputs": [],
   "source": [
    "x, y = 8, 5"
   ]
  },
  {
   "cell_type": "code",
   "execution_count": 39,
   "id": "751601df",
   "metadata": {},
   "outputs": [
    {
     "data": {
      "text/plain": [
       "1"
      ]
     },
     "execution_count": 39,
     "metadata": {},
     "output_type": "execute_result"
    }
   ],
   "source": [
    "x // y"
   ]
  },
  {
   "cell_type": "markdown",
   "id": "1eacef15",
   "metadata": {},
   "source": [
    "Comments "
   ]
  },
  {
   "cell_type": "code",
   "execution_count": 43,
   "id": "5f79ea82",
   "metadata": {},
   "outputs": [],
   "source": [
    "# This is a comment \n",
    "# Set the variable pi equal to 3.14\n",
    "pi = 3.14"
   ]
  },
  {
   "cell_type": "code",
   "execution_count": 44,
   "id": "b2a836c3",
   "metadata": {},
   "outputs": [],
   "source": [
    "pi = 3."
   ]
  },
  {
   "cell_type": "markdown",
   "id": "741edc40",
   "metadata": {},
   "source": [
    "\n",
    "**Docstrings** short for document strings, state what a given document, such as a\n",
    "program, a function, or a class, actually does."
   ]
  },
  {
   "cell_type": "code",
   "execution_count": 45,
   "id": "97b4d871",
   "metadata": {},
   "outputs": [
    {
     "data": {
      "text/plain": [
       "'\\nThis document will explore why comments are particularly useful\\nwhen writing and reading code.\\n'"
      ]
     },
     "execution_count": 45,
     "metadata": {},
     "output_type": "execute_result"
    }
   ],
   "source": [
    "\"\"\"\n",
    "This document will explore why comments are particularly useful\n",
    "when writing and reading code.\n",
    "\"\"\""
   ]
  },
  {
   "cell_type": "markdown",
   "id": "f02e3cc2",
   "metadata": {},
   "source": [
    "Finding a Solution Using the Pythagorean Theorem in Python"
   ]
  },
  {
   "cell_type": "markdown",
   "id": "30de663e",
   "metadata": {},
   "source": [
    "1. Write a docstring that describes what is going to happen.\n",
    "2. Set x, y, and z as equal to 2, 3, and 4.\n",
    "3. Determine the Pythagorean distance between x, y, and z.\n",
    "4. Include comments to clarify each line of code.\n",
    "5. You should get the following output: 5.385164807134504"
   ]
  },
  {
   "cell_type": "code",
   "execution_count": 51,
   "id": "cb99c550",
   "metadata": {},
   "outputs": [
    {
     "data": {
      "text/plain": [
       "5.385164807134504"
      ]
     },
     "execution_count": 51,
     "metadata": {},
     "output_type": "execute_result"
    }
   ],
   "source": [
    "\"\"\"\n",
    "Using the pythagorean theorem in python\n",
    "\"\"\"\n",
    "import math\n",
    "x, y, z = 2, 3, 4\n",
    "math.sqrt( (x)**2 + (y)**2 + (z)**2)"
   ]
  },
  {
   "cell_type": "code",
   "execution_count": null,
   "id": "3dfa083b",
   "metadata": {},
   "outputs": [],
   "source": []
  }
 ],
 "metadata": {
  "kernelspec": {
   "display_name": "Python 3",
   "language": "python",
   "name": "python3"
  },
  "language_info": {
   "codemirror_mode": {
    "name": "ipython",
    "version": 3
   },
   "file_extension": ".py",
   "mimetype": "text/x-python",
   "name": "python",
   "nbconvert_exporter": "python",
   "pygments_lexer": "ipython3",
   "version": "3.9.5"
  }
 },
 "nbformat": 4,
 "nbformat_minor": 5
}
